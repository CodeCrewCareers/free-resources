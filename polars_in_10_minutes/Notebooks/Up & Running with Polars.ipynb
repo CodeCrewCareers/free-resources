{
 "cells": [
  {
   "cell_type": "markdown",
   "metadata": {},
   "source": [
    "## Getting Started"
   ]
  },
  {
   "cell_type": "code",
   "execution_count": null,
   "metadata": {},
   "outputs": [],
   "source": [
    "pip install polars"
   ]
  },
  {
   "cell_type": "markdown",
   "metadata": {},
   "source": [
    "## Opening a CSV File"
   ]
  },
  {
   "cell_type": "code",
   "execution_count": 8,
   "metadata": {},
   "outputs": [
    {
     "data": {
      "text/html": [
       "<div><style>\n",
       ".dataframe > thead > tr,\n",
       ".dataframe > tbody > tr {\n",
       "  text-align: right;\n",
       "  white-space: pre-wrap;\n",
       "}\n",
       "</style>\n",
       "<small>shape: (5, 10)</small><table border=\"1\" class=\"dataframe\"><thead><tr><th>Employee ID</th><th>First Name</th><th>Last Name</th><th>Gender</th><th>Date of Birth</th><th>Department</th><th>Position</th><th>Salary ($)</th><th>Email</th><th>Phone</th></tr><tr><td>i64</td><td>str</td><td>str</td><td>str</td><td>str</td><td>str</td><td>str</td><td>i64</td><td>str</td><td>str</td></tr></thead><tbody><tr><td>1</td><td>&quot;John&quot;</td><td>&quot;Smith&quot;</td><td>&quot;Male&quot;</td><td>null</td><td>&quot;Sales&quot;</td><td>&quot;Sales Manager&quot;</td><td>75000</td><td>&quot;john.smith@example.com&quot;</td><td>&quot;123-456-7890&quot;</td></tr><tr><td>2</td><td>&quot;Jane&quot;</td><td>&quot;Doe&quot;</td><td>&quot;Female&quot;</td><td>&quot;1990-07-20&quot;</td><td>&quot;HR&quot;</td><td>&quot;HR Specialist&quot;</td><td>60000</td><td>&quot;jane.doe@example.com&quot;</td><td>&quot;234-567-8901&quot;</td></tr><tr><td>3</td><td>&quot;Michael&quot;</td><td>&quot;Johnson&quot;</td><td>&quot;Male&quot;</td><td>&quot;1988-11-10&quot;</td><td>&quot;IT&quot;</td><td>&quot;IT Manager&quot;</td><td>80000</td><td>null</td><td>&quot;345-678-9012&quot;</td></tr><tr><td>4</td><td>&quot;Emily&quot;</td><td>&quot;Williams&quot;</td><td>&quot;Female&quot;</td><td>&quot;1992-04-25&quot;</td><td>&quot;Marketing&quot;</td><td>&quot;Marketing Spec&quot;</td><td>55000</td><td>&quot;emily.w@example.com&quot;</td><td>&quot;456-789-0123&quot;</td></tr><tr><td>5</td><td>&quot;David&quot;</td><td>&quot;Brown&quot;</td><td>&quot;Male&quot;</td><td>&quot;1987-09-08&quot;</td><td>&quot;Finance&quot;</td><td>&quot;Accountant&quot;</td><td>65000</td><td>&quot;david.b@example.com&quot;</td><td>&quot;567-890-1234&quot;</td></tr></tbody></table></div>"
      ],
      "text/plain": [
       "shape: (5, 10)\n",
       "┌────────────┬────────────┬───────────┬────────┬───┬────────────┬────────┬────────────┬────────────┐\n",
       "│ Employee   ┆ First Name ┆ Last Name ┆ Gender ┆ … ┆ Position   ┆ Salary ┆ Email      ┆ Phone      │\n",
       "│ ID         ┆ ---        ┆ ---       ┆ ---    ┆   ┆ ---        ┆ ($)    ┆ ---        ┆ ---        │\n",
       "│ ---        ┆ str        ┆ str       ┆ str    ┆   ┆ str        ┆ ---    ┆ str        ┆ str        │\n",
       "│ i64        ┆            ┆           ┆        ┆   ┆            ┆ i64    ┆            ┆            │\n",
       "╞════════════╪════════════╪═══════════╪════════╪═══╪════════════╪════════╪════════════╪════════════╡\n",
       "│ 1          ┆ John       ┆ Smith     ┆ Male   ┆ … ┆ Sales      ┆ 75000  ┆ john.smith ┆ 123-456-78 │\n",
       "│            ┆            ┆           ┆        ┆   ┆ Manager    ┆        ┆ @example.c ┆ 90         │\n",
       "│            ┆            ┆           ┆        ┆   ┆            ┆        ┆ om         ┆            │\n",
       "│ 2          ┆ Jane       ┆ Doe       ┆ Female ┆ … ┆ HR         ┆ 60000  ┆ jane.doe@e ┆ 234-567-89 │\n",
       "│            ┆            ┆           ┆        ┆   ┆ Specialist ┆        ┆ xample.com ┆ 01         │\n",
       "│ 3          ┆ Michael    ┆ Johnson   ┆ Male   ┆ … ┆ IT Manager ┆ 80000  ┆ null       ┆ 345-678-90 │\n",
       "│            ┆            ┆           ┆        ┆   ┆            ┆        ┆            ┆ 12         │\n",
       "│ 4          ┆ Emily      ┆ Williams  ┆ Female ┆ … ┆ Marketing  ┆ 55000  ┆ emily.w@ex ┆ 456-789-01 │\n",
       "│            ┆            ┆           ┆        ┆   ┆ Spec       ┆        ┆ ample.com  ┆ 23         │\n",
       "│ 5          ┆ David      ┆ Brown     ┆ Male   ┆ … ┆ Accountant ┆ 65000  ┆ david.b@ex ┆ 567-890-12 │\n",
       "│            ┆            ┆           ┆        ┆   ┆            ┆        ┆ ample.com  ┆ 34         │\n",
       "└────────────┴────────────┴───────────┴────────┴───┴────────────┴────────┴────────────┴────────────┘"
      ]
     },
     "execution_count": 8,
     "metadata": {},
     "output_type": "execute_result"
    }
   ],
   "source": [
    "import polars as pl\n",
    "\n",
    "data = pl.read_csv(\"../Datasets/employees.csv\")\n",
    "data.head()"
   ]
  },
  {
   "cell_type": "markdown",
   "metadata": {},
   "source": [
    "## Schema "
   ]
  },
  {
   "cell_type": "code",
   "execution_count": 23,
   "metadata": {},
   "outputs": [
    {
     "data": {
      "text/plain": [
       "Schema([('Employee ID', Int64),\n",
       "        ('First Name', String),\n",
       "        ('Last Name', String),\n",
       "        ('Gender', String),\n",
       "        ('Date of Birth', String),\n",
       "        ('Department', String),\n",
       "        ('Position', String),\n",
       "        ('Salary ($)', Int64),\n",
       "        ('Email', String),\n",
       "        ('Phone', String)])"
      ]
     },
     "execution_count": 23,
     "metadata": {},
     "output_type": "execute_result"
    }
   ],
   "source": [
    "data.schema"
   ]
  },
  {
   "cell_type": "markdown",
   "metadata": {},
   "source": [
    "## Exploratory Data Analysis"
   ]
  },
  {
   "cell_type": "code",
   "execution_count": 10,
   "metadata": {},
   "outputs": [
    {
     "data": {
      "text/html": [
       "<div><style>\n",
       ".dataframe > thead > tr,\n",
       ".dataframe > tbody > tr {\n",
       "  text-align: right;\n",
       "  white-space: pre-wrap;\n",
       "}\n",
       "</style>\n",
       "<small>shape: (9, 11)</small><table border=\"1\" class=\"dataframe\"><thead><tr><th>statistic</th><th>Employee ID</th><th>First Name</th><th>Last Name</th><th>Gender</th><th>Date of Birth</th><th>Department</th><th>Position</th><th>Salary ($)</th><th>Email</th><th>Phone</th></tr><tr><td>str</td><td>f64</td><td>str</td><td>str</td><td>str</td><td>str</td><td>str</td><td>str</td><td>f64</td><td>str</td><td>str</td></tr></thead><tbody><tr><td>&quot;count&quot;</td><td>30.0</td><td>&quot;30&quot;</td><td>&quot;30&quot;</td><td>&quot;30&quot;</td><td>&quot;29&quot;</td><td>&quot;30&quot;</td><td>&quot;30&quot;</td><td>30.0</td><td>&quot;28&quot;</td><td>&quot;28&quot;</td></tr><tr><td>&quot;null_count&quot;</td><td>0.0</td><td>&quot;0&quot;</td><td>&quot;0&quot;</td><td>&quot;0&quot;</td><td>&quot;1&quot;</td><td>&quot;0&quot;</td><td>&quot;0&quot;</td><td>0.0</td><td>&quot;2&quot;</td><td>&quot;2&quot;</td></tr><tr><td>&quot;mean&quot;</td><td>15.5</td><td>null</td><td>null</td><td>null</td><td>null</td><td>null</td><td>null</td><td>62700.0</td><td>null</td><td>null</td></tr><tr><td>&quot;std&quot;</td><td>8.803408</td><td>null</td><td>null</td><td>null</td><td>null</td><td>null</td><td>null</td><td>10449.055394</td><td>null</td><td>null</td></tr><tr><td>&quot;min&quot;</td><td>1.0</td><td>&quot;Alexander&quot;</td><td>&quot;Adams&quot;</td><td>&quot;Female&quot;</td><td>&quot;1985-10-25&quot;</td><td>&quot;Finance&quot;</td><td>&quot;Accountant&quot;</td><td>45000.0</td><td>&quot;alex.y@example.com&quot;</td><td>&quot;012-345-6789&quot;</td></tr><tr><td>&quot;25%&quot;</td><td>8.0</td><td>null</td><td>null</td><td>null</td><td>null</td><td>null</td><td>null</td><td>54000.0</td><td>null</td><td>null</td></tr><tr><td>&quot;50%&quot;</td><td>16.0</td><td>null</td><td>null</td><td>null</td><td>null</td><td>null</td><td>null</td><td>65000.0</td><td>null</td><td>null</td></tr><tr><td>&quot;75%&quot;</td><td>23.0</td><td>null</td><td>null</td><td>null</td><td>null</td><td>null</td><td>null</td><td>72000.0</td><td>null</td><td>null</td></tr><tr><td>&quot;max&quot;</td><td>30.0</td><td>&quot;William&quot;</td><td>&quot;Young&quot;</td><td>&quot;Male&quot;</td><td>&quot;1996-02-17&quot;</td><td>&quot;Sales&quot;</td><td>&quot;System Analyst&quot;</td><td>80000.0</td><td>&quot;sophia.w@example.com&quot;</td><td>&quot;901-234-5678&quot;</td></tr></tbody></table></div>"
      ],
      "text/plain": [
       "shape: (9, 11)\n",
       "┌────────────┬────────────┬────────────┬───────┬───┬───────────┬───────────┬───────────┬───────────┐\n",
       "│ statistic  ┆ Employee   ┆ First Name ┆ Last  ┆ … ┆ Position  ┆ Salary    ┆ Email     ┆ Phone     │\n",
       "│ ---        ┆ ID         ┆ ---        ┆ Name  ┆   ┆ ---       ┆ ($)       ┆ ---       ┆ ---       │\n",
       "│ str        ┆ ---        ┆ str        ┆ ---   ┆   ┆ str       ┆ ---       ┆ str       ┆ str       │\n",
       "│            ┆ f64        ┆            ┆ str   ┆   ┆           ┆ f64       ┆           ┆           │\n",
       "╞════════════╪════════════╪════════════╪═══════╪═══╪═══════════╪═══════════╪═══════════╪═══════════╡\n",
       "│ count      ┆ 30.0       ┆ 30         ┆ 30    ┆ … ┆ 30        ┆ 30.0      ┆ 28        ┆ 28        │\n",
       "│ null_count ┆ 0.0        ┆ 0          ┆ 0     ┆ … ┆ 0         ┆ 0.0       ┆ 2         ┆ 2         │\n",
       "│ mean       ┆ 15.5       ┆ null       ┆ null  ┆ … ┆ null      ┆ 62700.0   ┆ null      ┆ null      │\n",
       "│ std        ┆ 8.803408   ┆ null       ┆ null  ┆ … ┆ null      ┆ 10449.055 ┆ null      ┆ null      │\n",
       "│            ┆            ┆            ┆       ┆   ┆           ┆ 394       ┆           ┆           │\n",
       "│ min        ┆ 1.0        ┆ Alexander  ┆ Adams ┆ … ┆ Accountan ┆ 45000.0   ┆ alex.y@ex ┆ 012-345-6 │\n",
       "│            ┆            ┆            ┆       ┆   ┆ t         ┆           ┆ ample.com ┆ 789       │\n",
       "│ 25%        ┆ 8.0        ┆ null       ┆ null  ┆ … ┆ null      ┆ 54000.0   ┆ null      ┆ null      │\n",
       "│ 50%        ┆ 16.0       ┆ null       ┆ null  ┆ … ┆ null      ┆ 65000.0   ┆ null      ┆ null      │\n",
       "│ 75%        ┆ 23.0       ┆ null       ┆ null  ┆ … ┆ null      ┆ 72000.0   ┆ null      ┆ null      │\n",
       "│ max        ┆ 30.0       ┆ William    ┆ Young ┆ … ┆ System    ┆ 80000.0   ┆ sophia.w@ ┆ 901-234-5 │\n",
       "│            ┆            ┆            ┆       ┆   ┆ Analyst   ┆           ┆ example.c ┆ 678       │\n",
       "│            ┆            ┆            ┆       ┆   ┆           ┆           ┆ om        ┆           │\n",
       "└────────────┴────────────┴────────────┴───────┴───┴───────────┴───────────┴───────────┴───────────┘"
      ]
     },
     "execution_count": 10,
     "metadata": {},
     "output_type": "execute_result"
    }
   ],
   "source": [
    "data.describe()"
   ]
  },
  {
   "cell_type": "markdown",
   "metadata": {},
   "source": [
    "## Selecting"
   ]
  },
  {
   "cell_type": "code",
   "execution_count": 12,
   "metadata": {},
   "outputs": [
    {
     "data": {
      "text/html": [
       "<div><style>\n",
       ".dataframe > thead > tr,\n",
       ".dataframe > tbody > tr {\n",
       "  text-align: right;\n",
       "  white-space: pre-wrap;\n",
       "}\n",
       "</style>\n",
       "<small>shape: (30, 4)</small><table border=\"1\" class=\"dataframe\"><thead><tr><th>First Name</th><th>Last Name</th><th>Department</th><th>Salary ($)</th></tr><tr><td>str</td><td>str</td><td>str</td><td>i64</td></tr></thead><tbody><tr><td>&quot;John&quot;</td><td>&quot;Smith&quot;</td><td>&quot;Sales&quot;</td><td>75000</td></tr><tr><td>&quot;Jane&quot;</td><td>&quot;Doe&quot;</td><td>&quot;HR&quot;</td><td>60000</td></tr><tr><td>&quot;Michael&quot;</td><td>&quot;Johnson&quot;</td><td>&quot;IT&quot;</td><td>80000</td></tr><tr><td>&quot;Emily&quot;</td><td>&quot;Williams&quot;</td><td>&quot;Marketing&quot;</td><td>55000</td></tr><tr><td>&quot;David&quot;</td><td>&quot;Brown&quot;</td><td>&quot;Finance&quot;</td><td>65000</td></tr><tr><td>&hellip;</td><td>&hellip;</td><td>&hellip;</td><td>&hellip;</td></tr><tr><td>&quot;Amelia&quot;</td><td>&quot;Hall&quot;</td><td>&quot;Marketing&quot;</td><td>77000</td></tr><tr><td>&quot;Samuel&quot;</td><td>&quot;Lewis&quot;</td><td>&quot;IT&quot;</td><td>72000</td></tr><tr><td>&quot;Elizabeth&quot;</td><td>&quot;Adams&quot;</td><td>&quot;Sales&quot;</td><td>55000</td></tr><tr><td>&quot;Benjamin&quot;</td><td>&quot;Walker&quot;</td><td>&quot;HR&quot;</td><td>47000</td></tr><tr><td>&quot;Evelyn&quot;</td><td>&quot;Carter&quot;</td><td>&quot;Finance&quot;</td><td>72000</td></tr></tbody></table></div>"
      ],
      "text/plain": [
       "shape: (30, 4)\n",
       "┌────────────┬───────────┬────────────┬────────────┐\n",
       "│ First Name ┆ Last Name ┆ Department ┆ Salary ($) │\n",
       "│ ---        ┆ ---       ┆ ---        ┆ ---        │\n",
       "│ str        ┆ str       ┆ str        ┆ i64        │\n",
       "╞════════════╪═══════════╪════════════╪════════════╡\n",
       "│ John       ┆ Smith     ┆ Sales      ┆ 75000      │\n",
       "│ Jane       ┆ Doe       ┆ HR         ┆ 60000      │\n",
       "│ Michael    ┆ Johnson   ┆ IT         ┆ 80000      │\n",
       "│ Emily      ┆ Williams  ┆ Marketing  ┆ 55000      │\n",
       "│ David      ┆ Brown     ┆ Finance    ┆ 65000      │\n",
       "│ …          ┆ …         ┆ …          ┆ …          │\n",
       "│ Amelia     ┆ Hall      ┆ Marketing  ┆ 77000      │\n",
       "│ Samuel     ┆ Lewis     ┆ IT         ┆ 72000      │\n",
       "│ Elizabeth  ┆ Adams     ┆ Sales      ┆ 55000      │\n",
       "│ Benjamin   ┆ Walker    ┆ HR         ┆ 47000      │\n",
       "│ Evelyn     ┆ Carter    ┆ Finance    ┆ 72000      │\n",
       "└────────────┴───────────┴────────────┴────────────┘"
      ]
     },
     "execution_count": 12,
     "metadata": {},
     "output_type": "execute_result"
    }
   ],
   "source": [
    "data.select([\"First Name\", \"Last Name\", \"Department\", \"Salary ($)\"])"
   ]
  },
  {
   "cell_type": "markdown",
   "metadata": {},
   "source": [
    "## Filtering"
   ]
  },
  {
   "cell_type": "code",
   "execution_count": 19,
   "metadata": {},
   "outputs": [
    {
     "data": {
      "text/html": [
       "<div><style>\n",
       ".dataframe > thead > tr,\n",
       ".dataframe > tbody > tr {\n",
       "  text-align: right;\n",
       "  white-space: pre-wrap;\n",
       "}\n",
       "</style>\n",
       "<small>shape: (17, 4)</small><table border=\"1\" class=\"dataframe\"><thead><tr><th>First Name</th><th>Last Name</th><th>Department</th><th>Salary ($)</th></tr><tr><td>str</td><td>str</td><td>str</td><td>i64</td></tr></thead><tbody><tr><td>&quot;John&quot;</td><td>&quot;Smith&quot;</td><td>&quot;Sales&quot;</td><td>75000</td></tr><tr><td>&quot;Michael&quot;</td><td>&quot;Johnson&quot;</td><td>&quot;IT&quot;</td><td>80000</td></tr><tr><td>&quot;David&quot;</td><td>&quot;Brown&quot;</td><td>&quot;Finance&quot;</td><td>65000</td></tr><tr><td>&quot;Sarah&quot;</td><td>&quot;Jones&quot;</td><td>&quot;IT&quot;</td><td>70000</td></tr><tr><td>&quot;Kevin&quot;</td><td>&quot;Anderson&quot;</td><td>&quot;Finance&quot;</td><td>68000</td></tr><tr><td>&hellip;</td><td>&hellip;</td><td>&hellip;</td><td>&hellip;</td></tr><tr><td>&quot;Harper&quot;</td><td>&quot;Green&quot;</td><td>&quot;HR&quot;</td><td>63000</td></tr><tr><td>&quot;Henry&quot;</td><td>&quot;Turner&quot;</td><td>&quot;Finance&quot;</td><td>70000</td></tr><tr><td>&quot;Amelia&quot;</td><td>&quot;Hall&quot;</td><td>&quot;Marketing&quot;</td><td>77000</td></tr><tr><td>&quot;Samuel&quot;</td><td>&quot;Lewis&quot;</td><td>&quot;IT&quot;</td><td>72000</td></tr><tr><td>&quot;Evelyn&quot;</td><td>&quot;Carter&quot;</td><td>&quot;Finance&quot;</td><td>72000</td></tr></tbody></table></div>"
      ],
      "text/plain": [
       "shape: (17, 4)\n",
       "┌────────────┬───────────┬────────────┬────────────┐\n",
       "│ First Name ┆ Last Name ┆ Department ┆ Salary ($) │\n",
       "│ ---        ┆ ---       ┆ ---        ┆ ---        │\n",
       "│ str        ┆ str       ┆ str        ┆ i64        │\n",
       "╞════════════╪═══════════╪════════════╪════════════╡\n",
       "│ John       ┆ Smith     ┆ Sales      ┆ 75000      │\n",
       "│ Michael    ┆ Johnson   ┆ IT         ┆ 80000      │\n",
       "│ David      ┆ Brown     ┆ Finance    ┆ 65000      │\n",
       "│ Sarah      ┆ Jones     ┆ IT         ┆ 70000      │\n",
       "│ Kevin      ┆ Anderson  ┆ Finance    ┆ 68000      │\n",
       "│ …          ┆ …         ┆ …          ┆ …          │\n",
       "│ Harper     ┆ Green     ┆ HR         ┆ 63000      │\n",
       "│ Henry      ┆ Turner    ┆ Finance    ┆ 70000      │\n",
       "│ Amelia     ┆ Hall      ┆ Marketing  ┆ 77000      │\n",
       "│ Samuel     ┆ Lewis     ┆ IT         ┆ 72000      │\n",
       "│ Evelyn     ┆ Carter    ┆ Finance    ┆ 72000      │\n",
       "└────────────┴───────────┴────────────┴────────────┘"
      ]
     },
     "execution_count": 19,
     "metadata": {},
     "output_type": "execute_result"
    }
   ],
   "source": [
    "data.filter(pl.col('Salary ($)') > 60000).select([\"First Name\", \"Last Name\", \"Department\", \"Salary ($)\"])"
   ]
  },
  {
   "cell_type": "markdown",
   "metadata": {},
   "source": [
    "## Exporting Data"
   ]
  },
  {
   "cell_type": "code",
   "execution_count": 20,
   "metadata": {},
   "outputs": [],
   "source": [
    "data.filter(pl.col('Salary ($)') > 60000).select([\"First Name\", \"Last Name\", \"Department\", \"Salary ($)\"]).write_csv('employee60K+.csv')"
   ]
  },
  {
   "cell_type": "markdown",
   "metadata": {},
   "source": [
    "## Sorting"
   ]
  },
  {
   "cell_type": "code",
   "execution_count": 21,
   "metadata": {},
   "outputs": [
    {
     "data": {
      "text/html": [
       "<div><style>\n",
       ".dataframe > thead > tr,\n",
       ".dataframe > tbody > tr {\n",
       "  text-align: right;\n",
       "  white-space: pre-wrap;\n",
       "}\n",
       "</style>\n",
       "<small>shape: (30, 10)</small><table border=\"1\" class=\"dataframe\"><thead><tr><th>Employee ID</th><th>First Name</th><th>Last Name</th><th>Gender</th><th>Date of Birth</th><th>Department</th><th>Position</th><th>Salary ($)</th><th>Email</th><th>Phone</th></tr><tr><td>i64</td><td>str</td><td>str</td><td>str</td><td>str</td><td>str</td><td>str</td><td>i64</td><td>str</td><td>str</td></tr></thead><tbody><tr><td>5</td><td>&quot;David&quot;</td><td>&quot;Brown&quot;</td><td>&quot;Male&quot;</td><td>&quot;1987-09-08&quot;</td><td>&quot;Finance&quot;</td><td>&quot;Accountant&quot;</td><td>65000</td><td>&quot;david.b@example.com&quot;</td><td>&quot;567-890-1234&quot;</td></tr><tr><td>11</td><td>&quot;Kevin&quot;</td><td>&quot;Anderson&quot;</td><td>&quot;Male&quot;</td><td>&quot;1990-05-10&quot;</td><td>&quot;Finance&quot;</td><td>&quot;Financial Anlyst&quot;</td><td>68000</td><td>&quot;kevin.a@example.com&quot;</td><td>null</td></tr><tr><td>15</td><td>&quot;Daniel&quot;</td><td>&quot;Martin&quot;</td><td>&quot;Male&quot;</td><td>&quot;1991-03-18&quot;</td><td>&quot;Finance&quot;</td><td>&quot;Accountant&quot;</td><td>68000</td><td>&quot;daniel.m@example.com&quot;</td><td>&quot;567-890-1234&quot;</td></tr><tr><td>21</td><td>&quot;Alexander&quot;</td><td>&quot;Young&quot;</td><td>&quot;Male&quot;</td><td>&quot;1985-10-25&quot;</td><td>&quot;Finance&quot;</td><td>&quot;Financial Anlyst&quot;</td><td>70000</td><td>&quot;alex.y@example.com&quot;</td><td>&quot;123-456-7890&quot;</td></tr><tr><td>25</td><td>&quot;Henry&quot;</td><td>&quot;Turner&quot;</td><td>&quot;Male&quot;</td><td>&quot;1990-06-08&quot;</td><td>&quot;Finance&quot;</td><td>&quot;Accountant&quot;</td><td>70000</td><td>&quot;henry.t@example.com&quot;</td><td>&quot;567-890-1234&quot;</td></tr><tr><td>&hellip;</td><td>&hellip;</td><td>&hellip;</td><td>&hellip;</td><td>&hellip;</td><td>&hellip;</td><td>&hellip;</td><td>&hellip;</td><td>&hellip;</td><td>&hellip;</td></tr><tr><td>7</td><td>&quot;Jason&quot;</td><td>&quot;Lee&quot;</td><td>&quot;Male&quot;</td><td>&quot;1986-12-30&quot;</td><td>&quot;Sales&quot;</td><td>&quot;Sales Rep&quot;</td><td>55000</td><td>&quot;jason.lee@example.com&quot;</td><td>null</td></tr><tr><td>13</td><td>&quot;William&quot;</td><td>&quot;Harris&quot;</td><td>&quot;Male&quot;</td><td>&quot;1994-09-22&quot;</td><td>&quot;Sales&quot;</td><td>&quot;Sales Rep&quot;</td><td>52000</td><td>null</td><td>&quot;345-678-9012&quot;</td></tr><tr><td>18</td><td>&quot;Isabella&quot;</td><td>&quot;Adams&quot;</td><td>&quot;Female&quot;</td><td>&quot;1993-04-02&quot;</td><td>&quot;Sales&quot;</td><td>&quot;Sales Rep&quot;</td><td>53000</td><td>&quot;isabella.a@example.com&quot;</td><td>&quot;890-123-4567&quot;</td></tr><tr><td>23</td><td>&quot;Benjamin&quot;</td><td>&quot;Hill&quot;</td><td>&quot;Male&quot;</td><td>&quot;1994-07-19&quot;</td><td>&quot;Sales&quot;</td><td>&quot;Sales Rep&quot;</td><td>54000</td><td>&quot;benjamin.h@example.com&quot;</td><td>&quot;345-678-9012&quot;</td></tr><tr><td>28</td><td>&quot;Elizabeth&quot;</td><td>&quot;Adams&quot;</td><td>&quot;Female&quot;</td><td>&quot;1992-01-08&quot;</td><td>&quot;Sales&quot;</td><td>&quot;Sales Rep&quot;</td><td>55000</td><td>&quot;elizabeth.a@example.com&quot;</td><td>&quot;890-123-4567&quot;</td></tr></tbody></table></div>"
      ],
      "text/plain": [
       "shape: (30, 10)\n",
       "┌────────────┬────────────┬───────────┬────────┬───┬────────────┬────────┬────────────┬────────────┐\n",
       "│ Employee   ┆ First Name ┆ Last Name ┆ Gender ┆ … ┆ Position   ┆ Salary ┆ Email      ┆ Phone      │\n",
       "│ ID         ┆ ---        ┆ ---       ┆ ---    ┆   ┆ ---        ┆ ($)    ┆ ---        ┆ ---        │\n",
       "│ ---        ┆ str        ┆ str       ┆ str    ┆   ┆ str        ┆ ---    ┆ str        ┆ str        │\n",
       "│ i64        ┆            ┆           ┆        ┆   ┆            ┆ i64    ┆            ┆            │\n",
       "╞════════════╪════════════╪═══════════╪════════╪═══╪════════════╪════════╪════════════╪════════════╡\n",
       "│ 5          ┆ David      ┆ Brown     ┆ Male   ┆ … ┆ Accountant ┆ 65000  ┆ david.b@ex ┆ 567-890-12 │\n",
       "│            ┆            ┆           ┆        ┆   ┆            ┆        ┆ ample.com  ┆ 34         │\n",
       "│ 11         ┆ Kevin      ┆ Anderson  ┆ Male   ┆ … ┆ Financial  ┆ 68000  ┆ kevin.a@ex ┆ null       │\n",
       "│            ┆            ┆           ┆        ┆   ┆ Anlyst     ┆        ┆ ample.com  ┆            │\n",
       "│ 15         ┆ Daniel     ┆ Martin    ┆ Male   ┆ … ┆ Accountant ┆ 68000  ┆ daniel.m@e ┆ 567-890-12 │\n",
       "│            ┆            ┆           ┆        ┆   ┆            ┆        ┆ xample.com ┆ 34         │\n",
       "│ 21         ┆ Alexander  ┆ Young     ┆ Male   ┆ … ┆ Financial  ┆ 70000  ┆ alex.y@exa ┆ 123-456-78 │\n",
       "│            ┆            ┆           ┆        ┆   ┆ Anlyst     ┆        ┆ mple.com   ┆ 90         │\n",
       "│ 25         ┆ Henry      ┆ Turner    ┆ Male   ┆ … ┆ Accountant ┆ 70000  ┆ henry.t@ex ┆ 567-890-12 │\n",
       "│            ┆            ┆           ┆        ┆   ┆            ┆        ┆ ample.com  ┆ 34         │\n",
       "│ …          ┆ …          ┆ …         ┆ …      ┆ … ┆ …          ┆ …      ┆ …          ┆ …          │\n",
       "│ 7          ┆ Jason      ┆ Lee       ┆ Male   ┆ … ┆ Sales Rep  ┆ 55000  ┆ jason.lee@ ┆ null       │\n",
       "│            ┆            ┆           ┆        ┆   ┆            ┆        ┆ example.co ┆            │\n",
       "│            ┆            ┆           ┆        ┆   ┆            ┆        ┆ m          ┆            │\n",
       "│ 13         ┆ William    ┆ Harris    ┆ Male   ┆ … ┆ Sales Rep  ┆ 52000  ┆ null       ┆ 345-678-90 │\n",
       "│            ┆            ┆           ┆        ┆   ┆            ┆        ┆            ┆ 12         │\n",
       "│ 18         ┆ Isabella   ┆ Adams     ┆ Female ┆ … ┆ Sales Rep  ┆ 53000  ┆ isabella.a ┆ 890-123-45 │\n",
       "│            ┆            ┆           ┆        ┆   ┆            ┆        ┆ @example.c ┆ 67         │\n",
       "│            ┆            ┆           ┆        ┆   ┆            ┆        ┆ om         ┆            │\n",
       "│ 23         ┆ Benjamin   ┆ Hill      ┆ Male   ┆ … ┆ Sales Rep  ┆ 54000  ┆ benjamin.h ┆ 345-678-90 │\n",
       "│            ┆            ┆           ┆        ┆   ┆            ┆        ┆ @example.c ┆ 12         │\n",
       "│            ┆            ┆           ┆        ┆   ┆            ┆        ┆ om         ┆            │\n",
       "│ 28         ┆ Elizabeth  ┆ Adams     ┆ Female ┆ … ┆ Sales Rep  ┆ 55000  ┆ elizabeth. ┆ 890-123-45 │\n",
       "│            ┆            ┆           ┆        ┆   ┆            ┆        ┆ a@example. ┆ 67         │\n",
       "│            ┆            ┆           ┆        ┆   ┆            ┆        ┆ com        ┆            │\n",
       "└────────────┴────────────┴───────────┴────────┴───┴────────────┴────────┴────────────┴────────────┘"
      ]
     },
     "execution_count": 21,
     "metadata": {},
     "output_type": "execute_result"
    }
   ],
   "source": [
    "data.sort(pl.col('Department'))"
   ]
  },
  {
   "cell_type": "code",
   "execution_count": null,
   "metadata": {},
   "outputs": [],
   "source": []
  }
 ],
 "metadata": {
  "kernelspec": {
   "display_name": "Python 3",
   "language": "python",
   "name": "python3"
  },
  "language_info": {
   "codemirror_mode": {
    "name": "ipython",
    "version": 3
   },
   "file_extension": ".py",
   "mimetype": "text/x-python",
   "name": "python",
   "nbconvert_exporter": "python",
   "pygments_lexer": "ipython3",
   "version": "3.11.4"
  }
 },
 "nbformat": 4,
 "nbformat_minor": 2
}
